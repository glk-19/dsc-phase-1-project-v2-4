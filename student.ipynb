{
 "cells": [
  {
   "cell_type": "markdown",
   "metadata": {},
   "source": [
    "## Final Project Submission\n",
    "\n",
    "Please fill out:\n",
    "* Student name: Martin Kabare\n",
    "* Student pace: full time\n",
    "* Scheduled project review date/time: 3/22/'24\n",
    "* Instructor name: Nikita \n",
    "* Blog post URL:\n"
   ]
  },
  {
   "cell_type": "markdown",
   "metadata": {},
   "source": [
    "# Identifying Leading Films, Studios, and Genres: Insights for a Novel Movie Studio\n",
    "\n",
    "## Project Objective\n",
    "\n",
    "\n",
    "The goal of this project is to uncover the leading films, production studios, and movie genres, offering critical insights that will guide the strategic direction of our emerging movie studio in the competitive film industry.\n",
    "\n",
    "## Data Acquisition and Initial Examination\n",
    "\n",
    "The analysis leverages data from Box Office Mojo and the Internet Movie Database (IMDb), renowned sources for comprehensive film data.\n",
    "\n",
    "To evaluate the success and appeal of various films, we focus on several key metrics:\n",
    "\n",
    "-Domestic and international gross earnings\n",
    "\n",
    "-Volume of review ratings\n",
    "\n",
    "-Average ratings of films\n",
    "\n",
    "These metrics serve as our foundation to explore successful film titles, the performance of production studios, and the popularity of different genres.\n",
    "\n",
    "Data Inspection and Cleansing (Box Office Mojo)\n",
    "The initial phase involves a thorough examination and cleansing of our data sources to ensure accuracy and relevance in our analysis."
   ]
  },
  {
   "cell_type": "code",
   "execution_count": 28,
   "metadata": {},
   "outputs": [],
   "source": [
    "#importing libraries & data visualisation tools\n",
    "import pandas as pd\n",
    "import sqlite3\n",
    "import csv\n",
    "import numpy as np\n",
    "from datetime import datetime\n",
    "import matplotlib.pyplot as plt \n",
    "import seaborn as sns\n",
    "\n",
    "%matplotlib inline"
   ]
  },
  {
   "cell_type": "markdown",
   "metadata": {},
   "source": [
    "2.3 Exploring the datasets\n",
    "\n",
    "2.3.1 Analysis of 'The Numbers' Dataset\n",
    "\n",
    "The 'The Numbers' dataset provides insights into movie budgets and financial returns."
   ]
  },
  {
   "cell_type": "code",
   "execution_count": 6,
   "metadata": {},
   "outputs": [
    {
     "data": {
      "text/html": [
       "<div>\n",
       "<style scoped>\n",
       "    .dataframe tbody tr th:only-of-type {\n",
       "        vertical-align: middle;\n",
       "    }\n",
       "\n",
       "    .dataframe tbody tr th {\n",
       "        vertical-align: top;\n",
       "    }\n",
       "\n",
       "    .dataframe thead th {\n",
       "        text-align: right;\n",
       "    }\n",
       "</style>\n",
       "<table border=\"1\" class=\"dataframe\">\n",
       "  <thead>\n",
       "    <tr style=\"text-align: right;\">\n",
       "      <th></th>\n",
       "      <th>id</th>\n",
       "      <th>release_date</th>\n",
       "      <th>movie</th>\n",
       "      <th>production_budget</th>\n",
       "      <th>domestic_gross</th>\n",
       "      <th>worldwide_gross</th>\n",
       "    </tr>\n",
       "  </thead>\n",
       "  <tbody>\n",
       "    <tr>\n",
       "      <th>0</th>\n",
       "      <td>1</td>\n",
       "      <td>Dec 18, 2009</td>\n",
       "      <td>Avatar</td>\n",
       "      <td>425000000.0</td>\n",
       "      <td>760507648.0</td>\n",
       "      <td>2.776345e+09</td>\n",
       "    </tr>\n",
       "    <tr>\n",
       "      <th>1</th>\n",
       "      <td>2</td>\n",
       "      <td>May 20, 2011</td>\n",
       "      <td>Pirates of the Caribbean: On Stranger Tides</td>\n",
       "      <td>410600000.0</td>\n",
       "      <td>241063872.0</td>\n",
       "      <td>1.045664e+09</td>\n",
       "    </tr>\n",
       "    <tr>\n",
       "      <th>2</th>\n",
       "      <td>3</td>\n",
       "      <td>Jun 7, 2019</td>\n",
       "      <td>Dark Phoenix</td>\n",
       "      <td>350000000.0</td>\n",
       "      <td>42762352.0</td>\n",
       "      <td>1.497624e+08</td>\n",
       "    </tr>\n",
       "    <tr>\n",
       "      <th>3</th>\n",
       "      <td>4</td>\n",
       "      <td>May 1, 2015</td>\n",
       "      <td>Avengers: Age of Ultron</td>\n",
       "      <td>330600000.0</td>\n",
       "      <td>459005856.0</td>\n",
       "      <td>1.403014e+09</td>\n",
       "    </tr>\n",
       "    <tr>\n",
       "      <th>4</th>\n",
       "      <td>5</td>\n",
       "      <td>Dec 15, 2017</td>\n",
       "      <td>Star Wars Ep. VIII: The Last Jedi</td>\n",
       "      <td>317000000.0</td>\n",
       "      <td>620181376.0</td>\n",
       "      <td>1.316722e+09</td>\n",
       "    </tr>\n",
       "  </tbody>\n",
       "</table>\n",
       "</div>"
      ],
      "text/plain": [
       "   id  release_date                                        movie  \\\n",
       "0   1  Dec 18, 2009                                       Avatar   \n",
       "1   2  May 20, 2011  Pirates of the Caribbean: On Stranger Tides   \n",
       "2   3   Jun 7, 2019                                 Dark Phoenix   \n",
       "3   4   May 1, 2015                      Avengers: Age of Ultron   \n",
       "4   5  Dec 15, 2017            Star Wars Ep. VIII: The Last Jedi   \n",
       "\n",
       "   production_budget  domestic_gross  worldwide_gross  \n",
       "0        425000000.0     760507648.0     2.776345e+09  \n",
       "1        410600000.0     241063872.0     1.045664e+09  \n",
       "2        350000000.0      42762352.0     1.497624e+08  \n",
       "3        330600000.0     459005856.0     1.403014e+09  \n",
       "4        317000000.0     620181376.0     1.316722e+09  "
      ]
     },
     "execution_count": 6,
     "metadata": {},
     "output_type": "execute_result"
    }
   ],
   "source": [
    "# Load the data from tn.movie_budgets.csv into a DataFrame\n",
    "movies_budget = pd.read_csv('zippedData/tn.movie_budgets.csv.gz')\n",
    "\n",
    "# Convert relevant columns to numeric data types\n",
    "columns_to_convert = ['production_budget', 'domestic_gross', 'worldwide_gross']\n",
    "movies_budget[columns_to_convert] = movies_budget[columns_to_convert].replace('[^.0-9]', '', regex=True).astype({'production_budget': 'float32', 'domestic_gross': 'float32', 'worldwide_gross': 'float64'})\n",
    "movies_budget.head(5)\n"
   ]
  },
  {
   "cell_type": "code",
   "execution_count": 7,
   "metadata": {},
   "outputs": [
    {
     "data": {
      "text/html": [
       "<div>\n",
       "<style scoped>\n",
       "    .dataframe tbody tr th:only-of-type {\n",
       "        vertical-align: middle;\n",
       "    }\n",
       "\n",
       "    .dataframe tbody tr th {\n",
       "        vertical-align: top;\n",
       "    }\n",
       "\n",
       "    .dataframe thead th {\n",
       "        text-align: right;\n",
       "    }\n",
       "</style>\n",
       "<table border=\"1\" class=\"dataframe\">\n",
       "  <thead>\n",
       "    <tr style=\"text-align: right;\">\n",
       "      <th></th>\n",
       "      <th>id</th>\n",
       "      <th>release_date</th>\n",
       "      <th>movie</th>\n",
       "      <th>production_budget</th>\n",
       "      <th>domestic_gross</th>\n",
       "      <th>worldwide_gross</th>\n",
       "      <th>international_gross</th>\n",
       "    </tr>\n",
       "  </thead>\n",
       "  <tbody>\n",
       "    <tr>\n",
       "      <th>0</th>\n",
       "      <td>1</td>\n",
       "      <td>Dec 18, 2009</td>\n",
       "      <td>Avatar</td>\n",
       "      <td>425000000.0</td>\n",
       "      <td>760507648.0</td>\n",
       "      <td>2.776345e+09</td>\n",
       "      <td>2.015838e+09</td>\n",
       "    </tr>\n",
       "    <tr>\n",
       "      <th>1</th>\n",
       "      <td>2</td>\n",
       "      <td>May 20, 2011</td>\n",
       "      <td>Pirates of the Caribbean: On Stranger Tides</td>\n",
       "      <td>410600000.0</td>\n",
       "      <td>241063872.0</td>\n",
       "      <td>1.045664e+09</td>\n",
       "      <td>8.046000e+08</td>\n",
       "    </tr>\n",
       "    <tr>\n",
       "      <th>2</th>\n",
       "      <td>3</td>\n",
       "      <td>Jun 7, 2019</td>\n",
       "      <td>Dark Phoenix</td>\n",
       "      <td>350000000.0</td>\n",
       "      <td>42762352.0</td>\n",
       "      <td>1.497624e+08</td>\n",
       "      <td>1.070000e+08</td>\n",
       "    </tr>\n",
       "    <tr>\n",
       "      <th>3</th>\n",
       "      <td>4</td>\n",
       "      <td>May 1, 2015</td>\n",
       "      <td>Avengers: Age of Ultron</td>\n",
       "      <td>330600000.0</td>\n",
       "      <td>459005856.0</td>\n",
       "      <td>1.403014e+09</td>\n",
       "      <td>9.440081e+08</td>\n",
       "    </tr>\n",
       "    <tr>\n",
       "      <th>4</th>\n",
       "      <td>5</td>\n",
       "      <td>Dec 15, 2017</td>\n",
       "      <td>Star Wars Ep. VIII: The Last Jedi</td>\n",
       "      <td>317000000.0</td>\n",
       "      <td>620181376.0</td>\n",
       "      <td>1.316722e+09</td>\n",
       "      <td>6.965404e+08</td>\n",
       "    </tr>\n",
       "    <tr>\n",
       "      <th>5</th>\n",
       "      <td>6</td>\n",
       "      <td>Dec 18, 2015</td>\n",
       "      <td>Star Wars Ep. VII: The Force Awakens</td>\n",
       "      <td>306000000.0</td>\n",
       "      <td>936662208.0</td>\n",
       "      <td>2.053311e+09</td>\n",
       "      <td>1.116649e+09</td>\n",
       "    </tr>\n",
       "    <tr>\n",
       "      <th>6</th>\n",
       "      <td>7</td>\n",
       "      <td>Apr 27, 2018</td>\n",
       "      <td>Avengers: Infinity War</td>\n",
       "      <td>300000000.0</td>\n",
       "      <td>678815488.0</td>\n",
       "      <td>2.048134e+09</td>\n",
       "      <td>1.369319e+09</td>\n",
       "    </tr>\n",
       "    <tr>\n",
       "      <th>7</th>\n",
       "      <td>8</td>\n",
       "      <td>May 24, 2007</td>\n",
       "      <td>Pirates of the Caribbean: At Worldâs End</td>\n",
       "      <td>300000000.0</td>\n",
       "      <td>309420416.0</td>\n",
       "      <td>9.634204e+08</td>\n",
       "      <td>6.540000e+08</td>\n",
       "    </tr>\n",
       "    <tr>\n",
       "      <th>8</th>\n",
       "      <td>9</td>\n",
       "      <td>Nov 17, 2017</td>\n",
       "      <td>Justice League</td>\n",
       "      <td>300000000.0</td>\n",
       "      <td>229024288.0</td>\n",
       "      <td>6.559452e+08</td>\n",
       "      <td>4.269209e+08</td>\n",
       "    </tr>\n",
       "    <tr>\n",
       "      <th>9</th>\n",
       "      <td>10</td>\n",
       "      <td>Nov 6, 2015</td>\n",
       "      <td>Spectre</td>\n",
       "      <td>300000000.0</td>\n",
       "      <td>200074176.0</td>\n",
       "      <td>8.796209e+08</td>\n",
       "      <td>6.795467e+08</td>\n",
       "    </tr>\n",
       "  </tbody>\n",
       "</table>\n",
       "</div>"
      ],
      "text/plain": [
       "   id  release_date                                        movie  \\\n",
       "0   1  Dec 18, 2009                                       Avatar   \n",
       "1   2  May 20, 2011  Pirates of the Caribbean: On Stranger Tides   \n",
       "2   3   Jun 7, 2019                                 Dark Phoenix   \n",
       "3   4   May 1, 2015                      Avengers: Age of Ultron   \n",
       "4   5  Dec 15, 2017            Star Wars Ep. VIII: The Last Jedi   \n",
       "5   6  Dec 18, 2015         Star Wars Ep. VII: The Force Awakens   \n",
       "6   7  Apr 27, 2018                       Avengers: Infinity War   \n",
       "7   8  May 24, 2007   Pirates of the Caribbean: At Worldâs End   \n",
       "8   9  Nov 17, 2017                               Justice League   \n",
       "9  10   Nov 6, 2015                                      Spectre   \n",
       "\n",
       "   production_budget  domestic_gross  worldwide_gross  international_gross  \n",
       "0        425000000.0     760507648.0     2.776345e+09         2.015838e+09  \n",
       "1        410600000.0     241063872.0     1.045664e+09         8.046000e+08  \n",
       "2        350000000.0      42762352.0     1.497624e+08         1.070000e+08  \n",
       "3        330600000.0     459005856.0     1.403014e+09         9.440081e+08  \n",
       "4        317000000.0     620181376.0     1.316722e+09         6.965404e+08  \n",
       "5        306000000.0     936662208.0     2.053311e+09         1.116649e+09  \n",
       "6        300000000.0     678815488.0     2.048134e+09         1.369319e+09  \n",
       "7        300000000.0     309420416.0     9.634204e+08         6.540000e+08  \n",
       "8        300000000.0     229024288.0     6.559452e+08         4.269209e+08  \n",
       "9        300000000.0     200074176.0     8.796209e+08         6.795467e+08  "
      ]
     },
     "execution_count": 7,
     "metadata": {},
     "output_type": "execute_result"
    }
   ],
   "source": [
    "# Calculate the international gross for each movie and store it in a new column\n",
    "movies_budget['international_gross'] = movies_budget['worldwide_gross'] - movies_budget['domestic_gross']\n",
    "\n",
    "# Display the first 10 rows of the DataFrame to inspect the changes\n",
    "movies_budget.head(10)\n"
   ]
  },
  {
   "cell_type": "code",
   "execution_count": 8,
   "metadata": {},
   "outputs": [
    {
     "data": {
      "text/html": [
       "<div>\n",
       "<style scoped>\n",
       "    .dataframe tbody tr th:only-of-type {\n",
       "        vertical-align: middle;\n",
       "    }\n",
       "\n",
       "    .dataframe tbody tr th {\n",
       "        vertical-align: top;\n",
       "    }\n",
       "\n",
       "    .dataframe thead th {\n",
       "        text-align: right;\n",
       "    }\n",
       "</style>\n",
       "<table border=\"1\" class=\"dataframe\">\n",
       "  <thead>\n",
       "    <tr style=\"text-align: right;\">\n",
       "      <th></th>\n",
       "      <th>id</th>\n",
       "      <th>release_date</th>\n",
       "      <th>movie</th>\n",
       "      <th>production_budget</th>\n",
       "      <th>domestic_gross</th>\n",
       "      <th>worldwide_gross</th>\n",
       "      <th>international_gross</th>\n",
       "    </tr>\n",
       "  </thead>\n",
       "  <tbody>\n",
       "    <tr>\n",
       "      <th>0</th>\n",
       "      <td>1</td>\n",
       "      <td>2009-12-18</td>\n",
       "      <td>Avatar</td>\n",
       "      <td>425000000.0</td>\n",
       "      <td>760507648.0</td>\n",
       "      <td>2.776345e+09</td>\n",
       "      <td>2.015838e+09</td>\n",
       "    </tr>\n",
       "    <tr>\n",
       "      <th>1</th>\n",
       "      <td>2</td>\n",
       "      <td>2011-05-20</td>\n",
       "      <td>Pirates of the Caribbean: On Stranger Tides</td>\n",
       "      <td>410600000.0</td>\n",
       "      <td>241063872.0</td>\n",
       "      <td>1.045664e+09</td>\n",
       "      <td>8.046000e+08</td>\n",
       "    </tr>\n",
       "    <tr>\n",
       "      <th>2</th>\n",
       "      <td>3</td>\n",
       "      <td>2019-06-07</td>\n",
       "      <td>Dark Phoenix</td>\n",
       "      <td>350000000.0</td>\n",
       "      <td>42762352.0</td>\n",
       "      <td>1.497624e+08</td>\n",
       "      <td>1.070000e+08</td>\n",
       "    </tr>\n",
       "    <tr>\n",
       "      <th>3</th>\n",
       "      <td>4</td>\n",
       "      <td>2015-05-01</td>\n",
       "      <td>Avengers: Age of Ultron</td>\n",
       "      <td>330600000.0</td>\n",
       "      <td>459005856.0</td>\n",
       "      <td>1.403014e+09</td>\n",
       "      <td>9.440081e+08</td>\n",
       "    </tr>\n",
       "    <tr>\n",
       "      <th>4</th>\n",
       "      <td>5</td>\n",
       "      <td>2017-12-15</td>\n",
       "      <td>Star Wars Ep. VIII: The Last Jedi</td>\n",
       "      <td>317000000.0</td>\n",
       "      <td>620181376.0</td>\n",
       "      <td>1.316722e+09</td>\n",
       "      <td>6.965404e+08</td>\n",
       "    </tr>\n",
       "  </tbody>\n",
       "</table>\n",
       "</div>"
      ],
      "text/plain": [
       "   id release_date                                        movie  \\\n",
       "0   1   2009-12-18                                       Avatar   \n",
       "1   2   2011-05-20  Pirates of the Caribbean: On Stranger Tides   \n",
       "2   3   2019-06-07                                 Dark Phoenix   \n",
       "3   4   2015-05-01                      Avengers: Age of Ultron   \n",
       "4   5   2017-12-15            Star Wars Ep. VIII: The Last Jedi   \n",
       "\n",
       "   production_budget  domestic_gross  worldwide_gross  international_gross  \n",
       "0        425000000.0     760507648.0     2.776345e+09         2.015838e+09  \n",
       "1        410600000.0     241063872.0     1.045664e+09         8.046000e+08  \n",
       "2        350000000.0      42762352.0     1.497624e+08         1.070000e+08  \n",
       "3        330600000.0     459005856.0     1.403014e+09         9.440081e+08  \n",
       "4        317000000.0     620181376.0     1.316722e+09         6.965404e+08  "
      ]
     },
     "execution_count": 8,
     "metadata": {},
     "output_type": "execute_result"
    }
   ],
   "source": [
    "# Convert release_date column to datetime\n",
    "movies_budget['release_date'] = pd.to_datetime(movies_budget['release_date'], errors='coerce')\n",
    "\n",
    "# Display the first 5 rows of the DataFrame after the conversion\n",
    "movies_budget.head(5)\n"
   ]
  },
  {
   "cell_type": "code",
   "execution_count": 10,
   "metadata": {},
   "outputs": [
    {
     "name": "stdout",
     "output_type": "stream",
     "text": [
      "<class 'pandas.core.frame.DataFrame'>\n",
      "RangeIndex: 5782 entries, 0 to 5781\n",
      "Data columns (total 7 columns):\n",
      " #   Column               Non-Null Count  Dtype         \n",
      "---  ------               --------------  -----         \n",
      " 0   id                   5782 non-null   int64         \n",
      " 1   release_date         5782 non-null   datetime64[ns]\n",
      " 2   movie                5782 non-null   object        \n",
      " 3   production_budget    5782 non-null   float32       \n",
      " 4   domestic_gross       5782 non-null   float32       \n",
      " 5   worldwide_gross      5782 non-null   float64       \n",
      " 6   international_gross  5782 non-null   float64       \n",
      "dtypes: datetime64[ns](1), float32(2), float64(2), int64(1), object(1)\n",
      "memory usage: 271.2+ KB\n"
     ]
    }
   ],
   "source": [
    "movies_budget.info()\n"
   ]
  },
  {
   "cell_type": "markdown",
   "metadata": {},
   "source": [
    "\n",
    "In this step, we'll remove rows that lack data for domestic, international, and worldwide gross revenue."
   ]
  },
  {
   "cell_type": "code",
   "execution_count": 16,
   "metadata": {},
   "outputs": [
    {
     "data": {
      "text/html": [
       "<div>\n",
       "<style scoped>\n",
       "    .dataframe tbody tr th:only-of-type {\n",
       "        vertical-align: middle;\n",
       "    }\n",
       "\n",
       "    .dataframe tbody tr th {\n",
       "        vertical-align: top;\n",
       "    }\n",
       "\n",
       "    .dataframe thead th {\n",
       "        text-align: right;\n",
       "    }\n",
       "</style>\n",
       "<table border=\"1\" class=\"dataframe\">\n",
       "  <thead>\n",
       "    <tr style=\"text-align: right;\">\n",
       "      <th></th>\n",
       "      <th>id</th>\n",
       "      <th>release_date</th>\n",
       "      <th>movie</th>\n",
       "      <th>production_budget</th>\n",
       "      <th>domestic_gross</th>\n",
       "      <th>worldwide_gross</th>\n",
       "      <th>international_gross</th>\n",
       "    </tr>\n",
       "  </thead>\n",
       "  <tbody>\n",
       "    <tr>\n",
       "      <th>5302</th>\n",
       "      <td>3</td>\n",
       "      <td>2015-12-11</td>\n",
       "      <td>American Hero</td>\n",
       "      <td>1000000.0</td>\n",
       "      <td>0.0</td>\n",
       "      <td>26.0</td>\n",
       "      <td>26.0</td>\n",
       "    </tr>\n",
       "    <tr>\n",
       "      <th>5335</th>\n",
       "      <td>36</td>\n",
       "      <td>2014-11-21</td>\n",
       "      <td>Food Chains</td>\n",
       "      <td>913000.0</td>\n",
       "      <td>0.0</td>\n",
       "      <td>176.0</td>\n",
       "      <td>176.0</td>\n",
       "    </tr>\n",
       "    <tr>\n",
       "      <th>5770</th>\n",
       "      <td>71</td>\n",
       "      <td>2008-08-14</td>\n",
       "      <td>The Rise and Fall of Miss Thang</td>\n",
       "      <td>10000.0</td>\n",
       "      <td>401.0</td>\n",
       "      <td>401.0</td>\n",
       "      <td>0.0</td>\n",
       "    </tr>\n",
       "    <tr>\n",
       "      <th>5518</th>\n",
       "      <td>19</td>\n",
       "      <td>2005-10-13</td>\n",
       "      <td>The Dark Hours</td>\n",
       "      <td>400000.0</td>\n",
       "      <td>423.0</td>\n",
       "      <td>423.0</td>\n",
       "      <td>0.0</td>\n",
       "    </tr>\n",
       "    <tr>\n",
       "      <th>5383</th>\n",
       "      <td>84</td>\n",
       "      <td>2014-12-31</td>\n",
       "      <td>Destiny</td>\n",
       "      <td>750000.0</td>\n",
       "      <td>0.0</td>\n",
       "      <td>450.0</td>\n",
       "      <td>450.0</td>\n",
       "    </tr>\n",
       "  </tbody>\n",
       "</table>\n",
       "</div>"
      ],
      "text/plain": [
       "      id release_date                            movie  production_budget  \\\n",
       "5302   3   2015-12-11                    American Hero          1000000.0   \n",
       "5335  36   2014-11-21                      Food Chains           913000.0   \n",
       "5770  71   2008-08-14  The Rise and Fall of Miss Thang            10000.0   \n",
       "5518  19   2005-10-13                   The Dark Hours           400000.0   \n",
       "5383  84   2014-12-31                          Destiny           750000.0   \n",
       "\n",
       "      domestic_gross  worldwide_gross  international_gross  \n",
       "5302             0.0             26.0                 26.0  \n",
       "5335             0.0            176.0                176.0  \n",
       "5770           401.0            401.0                  0.0  \n",
       "5518           423.0            423.0                  0.0  \n",
       "5383             0.0            450.0                450.0  "
      ]
     },
     "execution_count": 16,
     "metadata": {},
     "output_type": "execute_result"
    }
   ],
   "source": [
    "# Drop rows with missing values for domestic, international, and worldwide gross\n",
    "movies_budget.dropna(subset=['domestic_gross', 'international_gross', 'worldwide_gross'], inplace=True)\n",
    "\n",
    "# Sort the DataFrame by worldwide gross\n",
    "movies_budget.sort_values('worldwide_gross', inplace=True)\n",
    "\n",
    "# Display the DataFrame after filtering and sorting\n",
    "movies_budget.head()\n"
   ]
  },
  {
   "cell_type": "code",
   "execution_count": 18,
   "metadata": {},
   "outputs": [
    {
     "data": {
      "text/html": [
       "<div>\n",
       "<style scoped>\n",
       "    .dataframe tbody tr th:only-of-type {\n",
       "        vertical-align: middle;\n",
       "    }\n",
       "\n",
       "    .dataframe tbody tr th {\n",
       "        vertical-align: top;\n",
       "    }\n",
       "\n",
       "    .dataframe thead th {\n",
       "        text-align: right;\n",
       "    }\n",
       "</style>\n",
       "<table border=\"1\" class=\"dataframe\">\n",
       "  <thead>\n",
       "    <tr style=\"text-align: right;\">\n",
       "      <th></th>\n",
       "      <th>id</th>\n",
       "      <th>release_date</th>\n",
       "      <th>movie</th>\n",
       "      <th>production_budget</th>\n",
       "      <th>domestic_gross</th>\n",
       "      <th>worldwide_gross</th>\n",
       "      <th>international_gross</th>\n",
       "    </tr>\n",
       "  </thead>\n",
       "  <tbody>\n",
       "    <tr>\n",
       "      <th>0</th>\n",
       "      <td>3</td>\n",
       "      <td>2015-12-11</td>\n",
       "      <td>American Hero</td>\n",
       "      <td>1000000.0</td>\n",
       "      <td>0.0</td>\n",
       "      <td>26.0</td>\n",
       "      <td>26.0</td>\n",
       "    </tr>\n",
       "    <tr>\n",
       "      <th>1</th>\n",
       "      <td>36</td>\n",
       "      <td>2014-11-21</td>\n",
       "      <td>Food Chains</td>\n",
       "      <td>913000.0</td>\n",
       "      <td>0.0</td>\n",
       "      <td>176.0</td>\n",
       "      <td>176.0</td>\n",
       "    </tr>\n",
       "    <tr>\n",
       "      <th>2</th>\n",
       "      <td>71</td>\n",
       "      <td>2008-08-14</td>\n",
       "      <td>The Rise and Fall of Miss Thang</td>\n",
       "      <td>10000.0</td>\n",
       "      <td>401.0</td>\n",
       "      <td>401.0</td>\n",
       "      <td>0.0</td>\n",
       "    </tr>\n",
       "    <tr>\n",
       "      <th>3</th>\n",
       "      <td>19</td>\n",
       "      <td>2005-10-13</td>\n",
       "      <td>The Dark Hours</td>\n",
       "      <td>400000.0</td>\n",
       "      <td>423.0</td>\n",
       "      <td>423.0</td>\n",
       "      <td>0.0</td>\n",
       "    </tr>\n",
       "    <tr>\n",
       "      <th>4</th>\n",
       "      <td>84</td>\n",
       "      <td>2014-12-31</td>\n",
       "      <td>Destiny</td>\n",
       "      <td>750000.0</td>\n",
       "      <td>0.0</td>\n",
       "      <td>450.0</td>\n",
       "      <td>450.0</td>\n",
       "    </tr>\n",
       "  </tbody>\n",
       "</table>\n",
       "</div>"
      ],
      "text/plain": [
       "   id release_date                            movie  production_budget  \\\n",
       "0   3   2015-12-11                    American Hero          1000000.0   \n",
       "1  36   2014-11-21                      Food Chains           913000.0   \n",
       "2  71   2008-08-14  The Rise and Fall of Miss Thang            10000.0   \n",
       "3  19   2005-10-13                   The Dark Hours           400000.0   \n",
       "4  84   2014-12-31                          Destiny           750000.0   \n",
       "\n",
       "   domestic_gross  worldwide_gross  international_gross  \n",
       "0             0.0             26.0                 26.0  \n",
       "1             0.0            176.0                176.0  \n",
       "2           401.0            401.0                  0.0  \n",
       "3           423.0            423.0                  0.0  \n",
       "4             0.0            450.0                450.0  "
      ]
     },
     "execution_count": 18,
     "metadata": {},
     "output_type": "execute_result"
    }
   ],
   "source": [
    "# Remove rows with missing gross values\n",
    "movies_budget = movies_budget[(movies_budget['domestic_gross'] != 0) | (movies_budget['worldwide_gross'] != 0)].reset_index(drop=True)\n",
    "movies_budget.head(5)\n"
   ]
  },
  {
   "cell_type": "markdown",
   "metadata": {},
   "source": [
    "\n",
    "# Movie Details Overview\n",
    "The TSV file offers a rich dataset detailing various aspects of movies, encapsulating fields such as id, synopsis, rating, genre, director, writer, theater_date, dvd_date, currency, box_office, runtime, and the producing studio. Each record in the dataset corresponds to an individual movie, elaborating on its narrative summary, classification (e.g., PG, R), thematic categories, creative leadership, theatrical and DVD release timings, financial performance, duration, and the production house. This detailed composition facilitates an all-encompassing examination of films, touching on their financial achievements, narrative elements, and production nuances."
   ]
  },
  {
   "cell_type": "code",
   "execution_count": 32,
   "metadata": {},
   "outputs": [
    {
     "name": "stdout",
     "output_type": "stream",
     "text": [
      "   id                                           synopsis rating  \\\n",
      "0   1  \"This gritty, fast-paced, and innovative polic...      R   \n",
      "1   3  New York City, not-too-distant-future: Eric Pa...      R   \n",
      "2   5  \"Illeana Douglas delivers a superb performance...      R   \n",
      "3   6  Michael Douglas runs afoul of a treacherous su...      R   \n",
      "4   7                                                NaN     NR   \n",
      "\n",
      "                                 genre          director  \\\n",
      "0  Action and Adventure|Classics|Drama  William Friedkin   \n",
      "1    Drama|Science Fiction and Fantasy  David Cronenberg   \n",
      "2    Drama|Musical and Performing Arts    Allison Anders   \n",
      "3           Drama|Mystery and Suspense    Barry Levinson   \n",
      "4                        Drama|Romance    Rodney Bennett   \n",
      "\n",
      "                            writer  theater_date      dvd_date currency  \\\n",
      "0                   Ernest Tidyman   Oct 9, 1971  Sep 25, 2001      NaN   \n",
      "1     David Cronenberg|Don DeLillo  Aug 17, 2012   Jan 1, 2013        $   \n",
      "2                   Allison Anders  Sep 13, 1996  Apr 18, 2000      NaN   \n",
      "3  Paul Attanasio|Michael Crichton   Dec 9, 1994  Aug 27, 1997      NaN   \n",
      "4                     Giles Cooper           NaN           NaN      NaN   \n",
      "\n",
      "  box_office      runtime             studio  \n",
      "0        NaN  104 minutes               None  \n",
      "1    600,000  108 minutes  Entertainment One  \n",
      "2        NaN  116 minutes               None  \n",
      "3        NaN  128 minutes               None  \n",
      "4        NaN  200 minutes               None  \n"
     ]
    },
    {
     "name": "stderr",
     "output_type": "stream",
     "text": [
      "<ipython-input-32-af63803d6306>:2: ParserWarning: Falling back to the 'python' engine because the 'c' engine does not support regex separators (separators > 1 char and different from '\\s+' are interpreted as regex); you can avoid this warning by specifying engine='python'.\n",
      "  df = pd.read_csv('zippedData/rt.movie_info.tsv.gz', sep='\\\t')\n"
     ]
    }
   ],
   "source": [
    "# Load the TSV file\n",
    "df = pd.read_csv('zippedData/rt.movie_info.tsv.gz', sep='\\\t')\n",
    "\n",
    "# Display the first few rows of the dataframe\n",
    "print(df.head())"
   ]
  },
  {
   "cell_type": "markdown",
   "metadata": {},
   "source": [
    "# Visual Insights from Data\n",
    "Leveraging visualizations derived from diverse data sources such as CSVs, databases, and TSV files enables us to delve into various facets of the film industry, including actor remunerations, genre preferences, and financial outcomes at the box office. Through this analytical lens, we have the opportunity to:\n",
    "\n",
    "Uncover Patterns: Identify which genres and narratives capture audience interest, shaping the direction for future cinematic projects.\n",
    "Refine Marketing Strategies: Utilize visual data to accurately identify target audiences, enhancing the efficacy of promotional efforts.\n",
    "Budgetary Efficiency: Employ visual analytics to dissect and understand expenditure, facilitating informed decisions that bolster financial efficiency.\n",
    "Harnessing these visual insights can pave the way for crafting films that not only appeal to a broader demographic but also optimize production expenditures, ultimately steering a studio towards heightened profitability and success."
   ]
  },
  {
   "cell_type": "markdown",
   "metadata": {},
   "source": [
    "# Analyzing the Relationship Between Production Budget and Global Revenue"
   ]
  },
  {
   "cell_type": "code",
   "execution_count": 34,
   "metadata": {},
   "outputs": [
    {
     "name": "stdout",
     "output_type": "stream",
     "text": [
      "Data loaded and columns converted to int64 successfully.\n"
     ]
    }
   ],
   "source": [
    "import pandas as pd\n",
    "\n",
    "tmdb_movies = pd.read_csv('zippedData/tmdb.movies.csv.gz')\n",
    "tn_movie_budgets = pd.read_csv('zippedData/tn.movie_budgets.csv.gz')\n",
    "\n",
    "\n",
    "tn_movie_budgets['production_budget'] = tn_movie_budgets['production_budget'].astype('object')\n",
    "tn_movie_budgets['domestic_gross'] = tn_movie_budgets['domestic_gross'].astype('object')\n",
    "tn_movie_budgets['worldwide_gross'] = tn_movie_budgets['worldwide_gross'].astype('object')\n",
    "\n",
    "# Convert budget and revenue columns to integers\n",
    "\n",
    "tn_movie_budgets['production_budget'] = tn_movie_budgets['production_budget'].str.replace('[$,]', '', regex=True).astype('int64')\n",
    "tn_movie_budgets['domestic_gross'] = tn_movie_budgets['domestic_gross'].str.replace('[$,]', '', regex=True).astype('int64')\n",
    "tn_movie_budgets['worldwide_gross'] = tn_movie_budgets['worldwide_gross'].str.replace('[$,]', '', regex=True).astype('int64')\n",
    "\n",
    "print('Data loaded and columns converted to int64 successfully.')"
   ]
  },
  {
   "cell_type": "code",
   "execution_count": 35,
   "metadata": {},
   "outputs": [
    {
     "data": {
      "image/png": "[encoded data removed]",
      "text/plain": [
       "<Figure size 720x360 with 1 Axes>"
      ]
     },
     "metadata": {
      "needs_background": "light"
     },
     "output_type": "display_data"
    }
   ],
   "source": [
    "merged_data = tn_movie_budgets.merge(tmdb_movies, left_on='movie', right_on='title', how='inner')\n",
    "\n",
    "# Setting up the plot with logarithmic scales due to wide value ranges\n",
    "plt.figure(figsize=(10, 5))\n",
    "plt.scatter(merged_data['production_budget'], merged_data['worldwide_gross'], alpha=0.5, color='blue')\n",
    "\n",
    "# Enhancing plot aesthetics and readability\n",
    "plt.title('Correlation Between Production Budget and Worldwide Gross Earnings', fontsize=14)\n",
    "plt.xlabel('Production Budget (Log Scale)', fontsize=12)\n",
    "plt.ylabel('Worldwide Gross (Log Scale)', fontsize=12)\n",
    "plt.xscale('log')\n",
    "plt.yscale('log')\n",
    "plt.grid(which='both', linestyle='--', linewidth=0.5)\n",
    "\n",
    "# Displaying the visualization\n",
    "plt.show()"
   ]
  },
  {
   "cell_type": "markdown",
   "metadata": {},
   "source": [
    "The scatter plot analysis reveals a notable correlation where movies with larger production budgets generally achieve greater worldwide gross earnings. This pattern underscores the notion that substantial investments in movie production have the potential to amplify global revenues. However, the variability among data points also highlights that a hefty budget does not always ensure financial success, as films with modest budgets have also reached remarkable earnings.\n",
    "\n",
    "Such insights are invaluable for stakeholders within the film sector, guiding investment strategies. Grasping the dynamics between production spending and financial returns enables film companies to tailor their investment scales for optimal profitability. Furthermore, the exploration of anomalies within the data—movies that excel financially on leaner budgets—offers a window into efficient, cost-effective production methodologies that could redefine profit maximization approaches in filmmaking."
   ]
  },
  {
   "cell_type": "markdown",
   "metadata": {},
   "source": [
    "# Leading 5 Production Houses by Film Output\n",
    "\n",
    "\n",
    "\n",
    "\n",
    "\n"
   ]
  },
  {
   "cell_type": "code",
   "execution_count": 36,
   "metadata": {},
   "outputs": [
    {
     "name": "stdout",
     "output_type": "stream",
     "text": [
      "                                         title studio  domestic_gross  \\\n",
      "0                                  Toy Story 3     BV     415000000.0   \n",
      "1                   Alice in Wonderland (2010)     BV     334200000.0   \n",
      "2  Harry Potter and the Deathly Hallows Part 1     WB     296000000.0   \n",
      "3                                    Inception     WB     292600000.0   \n",
      "4                          Shrek Forever After   P/DW     238700000.0   \n",
      "\n",
      "  foreign_gross  year  \n",
      "0     652000000  2010  \n",
      "1     691300000  2010  \n",
      "2     664300000  2010  \n",
      "3     535700000  2010  \n",
      "4     513900000  2010  \n"
     ]
    },
    {
     "data": {
      "image/png": "[encoded data removed]",
      "text/plain": [
       "<Figure size 720x432 with 1 Axes>"
      ]
     },
     "metadata": {
      "needs_background": "light"
     },
     "output_type": "display_data"
    }
   ],
   "source": [
    "import pandas as pd\n",
    "import matplotlib.pyplot as plt\n",
    "\n",
    "# Combining data loading and immediate exploration\n",
    "bom_movie_gross = pd.read_csv('zippedData/bom.movie_gross.csv.gz')\n",
    "print(bom_movie_gross.head())\n",
    "\n",
    "# Directly plotting the top 5 studios by movie production count from the loaded DataFrame\n",
    "bom_movie_gross['studio'].value_counts().nlargest(5).plot(kind='bar', figsize=(10, 6), color='skyblue', title='Top 5 Studios by Number of Movies Produced')\n",
    "plt.xlabel('Studio')\n",
    "plt.ylabel('Number of Movies')\n",
    "plt.xticks(rotation=45)\n",
    "plt.show()\n"
   ]
  },
  {
   "cell_type": "markdown",
   "metadata": {},
   "source": [
    "This analysis is instrumental in spotlighting the industry's leading production houses, thereby establishing benchmarks for growth and guiding strategic decisions in genre selection to maintain market competitiveness. Furthermore, this information can serve as a foundation for studios looking to forge co-production or distribution partnerships, with the goal of broadening their market footprint and enhancing revenue streams.\n",
    "\n",
    "**Uncovering Strengths and Opportunities:** Analyzing the volume of movies produced by each studio sheds light on potential strengths and areas for improvement within the film industry. A studio's consistent appearance at the forefront could indicate a winning production strategy or strong relationships within the filmmaking community, encouraging others to explore these successful practices for their benefit.\n",
    "\n",
    "**Setting Industry Benchmarks:** This data allows studios to measure their production volumes against those of industry pacesetters, aiding in evaluating their current capabilities and setting ambitious, yet attainable, expansion targets.\n",
    "\n",
    "**Informed Genre Selection:** Should further data be available regarding the genres pursued by each leading studio, merging this information could reveal prevailing genre trends among the top producers. This insight is valuable for studios planning their future projects, ensuring they align with current market demands and preferences.\n",
    "\n",
    "**Fostering Strategic Collaborations:** Armed with this knowledge, studios can identify and approach prolific producers for collaborative ventures, whether in production or distribution. Such partnerships can offer access to a broader content spectrum and specialized production expertise, enriching a studio's portfolio and potentially leading to greater market success."
   ]
  },
  {
   "cell_type": "markdown",
   "metadata": {},
   "source": [
    "# Distribution Analysis of TMDb Movie Ratings\n",
    "\n",
    "\n",
    "\n",
    "\n",
    "\n"
   ]
  },
  {
   "cell_type": "code",
   "execution_count": 37,
   "metadata": {},
   "outputs": [
    {
     "data": {
      "image/png": "[encoded data removed]",
      "text/plain": [
       "<Figure size 720x432 with 1 Axes>"
      ]
     },
     "metadata": {},
     "output_type": "display_data"
    },
    {
     "name": "stdout",
     "output_type": "stream",
     "text": [
      "Histogram created.\n"
     ]
    }
   ],
   "source": [
    "import pandas as pd\n",
    "\n",
    "# Load the TMDB Movies dataset\n",
    "df_tmdb = pd.read_csv('zippedData/tmdb.movies.csv.gz')\n",
    "\n",
    "# Plotting the histogram\n",
    "plt.figure(figsize=(10, 6), facecolor='white')\n",
    "plt.hist(df_tmdb['vote_average'], bins=20, color='skyblue', edgecolor='black')\n",
    "plt.title('Distribution of TMDB Movie Ratings')\n",
    "plt.xlabel('Rating')\n",
    "plt.ylabel('Number of Movies')\n",
    "plt.grid(axis='y', alpha=0.75)\n",
    "plt.show()\n",
    "\n",
    "print('Histogram created.')"
   ]
  },
  {
   "cell_type": "markdown",
   "metadata": {},
   "source": [
    "\n",
    "The histogram offers a detailed view of the rating distribution for TMDb movies, illustrating the frequency at which films are rated across a 0 to 10 scale. A significant concentration of films falls within the 6 to 7 rating bracket, reflecting predominantly positive feedback. The distribution's form aligns closely with a normal curve, with a noticeable scarcity of films rated extremely low (under 4) or exceptionally high (over 8). This trend implies that the majority of films on TMDb are deemed to be of moderate to high quality by its audience, with ratings at the extreme ends being relatively rare. This analysis serves to underline the median rating trends on TMDb, shedding light on viewer preferences and the general perception of film quality on the site."
   ]
  },
  {
   "cell_type": "markdown",
   "metadata": {},
   "source": [
    "# SUMMARY\n",
    "\n",
    "In summary, this comprehensive project embarked on a data-driven journey to explore the intricate landscape of the film industry, aimed at steering a novel movie studio towards informed strategic decisions. Through meticulous analysis of datasets from Box Office Mojo, IMDb, and other reputable sources, we've delved deep into the core metrics that define cinematic success: domestic and international gross earnings, the volume of review ratings, and the critical reception of films.\n",
    "\n",
    "By cleansing and scrutinizing data, we've highlighted the paramount importance of production budgets in correlating with worldwide gross revenue, demonstrating that while larger investments often yield higher returns, exceptional outcomes can also be achieved with modest budgets. The exploration into the top 5 production houses has not only set benchmarks for industry performance but also opened avenues for strategic partnerships and genre selection, ensuring competitiveness in a fast-evolving market.\n",
    "\n",
    "Furthermore, the distribution analysis of TMDb movie ratings has provided valuable insights into audience preferences, underlining a general affinity towards films rated within the 6 to 7 range, while also acknowledging the wide spectrum of film quality appreciated by viewers.\n",
    "\n",
    "Overall, this project underscores the vital role of data in shaping the strategies of emerging movie studios. By harnessing detailed market analysis, genre trends, and financial insights, studios can navigate the complexities of the film industry, optimize production expenditures, and tailor their cinematic offerings to match audience expectations, thereby maximizing profitability and achieving sustained success in the realm of filmmaking."
   ]
  }
 ],
 "metadata": {
  "kernelspec": {
   "display_name": "Python 3",
   "language": "python",
   "name": "python3"
  },
  "language_info": {
   "codemirror_mode": {
    "name": "ipython",
    "version": 3
   },
   "file_extension": ".py",
   "mimetype": "text/x-python",
   "name": "python",
   "nbconvert_exporter": "python",
   "pygments_lexer": "ipython3",
   "version": "3.8.5"
  }
 },
 "nbformat": 4,
 "nbformat_minor": 2
}
